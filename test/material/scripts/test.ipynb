{
 "cells": [
  {
   "cell_type": "code",
   "execution_count": 1,
   "metadata": {},
   "outputs": [],
   "source": [
    "from biohub.subject import Subject\n",
    "from pathlib import Path\n",
    "\n",
    "subject = Subject(path = \"./test/test_subjects/subject_1/biohub_subject.xml\")\n",
    "subject.saveToXml()"
   ]
  },
  {
   "cell_type": "code",
   "execution_count": 2,
   "metadata": {},
   "outputs": [],
   "source": [
    "process = list(subject.processes.values())[0]\n",
    "processb = list(subject.processes.values())[1]"
   ]
  },
  {
   "cell_type": "code",
   "execution_count": 3,
   "metadata": {},
   "outputs": [
    {
     "ename": "TypeError",
     "evalue": "'module' object is not callable",
     "output_type": "error",
     "traceback": [
      "\u001b[0;31m---------------------------------------------------------------------------\u001b[0m",
      "\u001b[0;31mTypeError\u001b[0m                                 Traceback (most recent call last)",
      "\u001b[1;32m/home/virtualvikings/Work/biohub/test.ipynb Cell 3'\u001b[0m in \u001b[0;36m<cell line: 13>\u001b[0;34m()\u001b[0m\n\u001b[1;32m      <a href='vscode-notebook-cell:/home/virtualvikings/Work/biohub/test.ipynb#ch0000002?line=8'>9</a>\u001b[0m element\u001b[39m.\u001b[39mappend(b)\n\u001b[1;32m     <a href='vscode-notebook-cell:/home/virtualvikings/Work/biohub/test.ipynb#ch0000002?line=10'>11</a>\u001b[0m element\u001b[39m.\u001b[39mfindall(\u001b[39m\"\u001b[39m\u001b[39mprocess\u001b[39m\u001b[39m\"\u001b[39m)\n\u001b[0;32m---> <a href='vscode-notebook-cell:/home/virtualvikings/Work/biohub/test.ipynb#ch0000002?line=12'>13</a>\u001b[0m ET(element)\n",
      "\u001b[0;31mTypeError\u001b[0m: 'module' object is not callable"
     ]
    }
   ],
   "source": [
    "a = process.buildXmlElement()\n",
    "b = process.buildXmlElement()\n",
    "\n",
    "import xml.etree.ElementTree as ET\n",
    "\n",
    "element = ET.Element(\"algo\")\n",
    "\n",
    "element.append(a)\n",
    "element.append(b)\n",
    "\n",
    "element.findall(\"process\")\n",
    "\n",
    "ET(element)"
   ]
  },
  {
   "cell_type": "code",
   "execution_count": 5,
   "metadata": {},
   "outputs": [
    {
     "data": {
      "text/plain": [
       "<biohub.subject.createSubject.CreateSubject at 0x7f3a1d668970>"
      ]
     },
     "execution_count": 5,
     "metadata": {},
     "output_type": "execute_result"
    }
   ],
   "source": [
    "from biohub.subject.createSubject import CreateSubject\n",
    "\n",
    "CreateSubject(\"subject_2\", \"/home/virtualvikings/Work/biohub/test/test_subjects\")"
   ]
  },
  {
   "cell_type": "code",
   "execution_count": 1,
   "metadata": {},
   "outputs": [],
   "source": [
    "from biohub.process.load import Load\n",
    "from biohub.subject import Subject\n",
    "from pathlib import Path\n",
    "\n",
    "subject = Subject(path = \"/home/virtualvikings/Work/biohub/test/test_subjects/subject_2/biohub_subject.xml\")\n",
    "Load().run(subject,\n",
    "           Path(\"/home/virtualvikings/Work/biohub/test/test_raw/sample1_1.fq\"),\n",
    "           processAttrs = {\"backgrounds\" : [\"load raw\"]},\n",
    "           fileAttrs = {\"backgrounds\" : [\"raw\", \"single\"]})\n",
    "\n",
    "subject = \"hola\""
   ]
  }
 ],
 "metadata": {
  "interpreter": {
   "hash": "c6419cd88096051f2b8e0b907ff5b04bae72020eb3232c0d202c883720bba66e"
  },
  "kernelspec": {
   "display_name": "Python 3.9.12 ('base')",
   "language": "python",
   "name": "python3"
  },
  "language_info": {
   "codemirror_mode": {
    "name": "ipython",
    "version": 3
   },
   "file_extension": ".py",
   "mimetype": "text/x-python",
   "name": "python",
   "nbconvert_exporter": "python",
   "pygments_lexer": "ipython3",
   "version": "3.9.12"
  },
  "orig_nbformat": 4
 },
 "nbformat": 4,
 "nbformat_minor": 2
}
